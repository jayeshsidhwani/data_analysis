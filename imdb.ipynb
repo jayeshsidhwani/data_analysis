{
 "metadata": {
  "name": ""
 },
 "nbformat": 3,
 "nbformat_minor": 0,
 "worksheets": [
  {
   "cells": [
    {
     "cell_type": "code",
     "collapsed": false,
     "input": [
      "%matplotlib inline\n",
      "import pandas as pd\n",
      "import numpy as np\n",
      "import random\n",
      "import matplotlib.pyplot as plt"
     ],
     "language": "python",
     "metadata": {},
     "outputs": [],
     "prompt_number": 24
    },
    {
     "cell_type": "code",
     "collapsed": false,
     "input": [
      "names = ['imdbID', 'title', 'year', 'score', 'votes', 'runtime', 'genres']\n",
      "data = pd.read_csv('data/imdb_data.txt', delimiter='\\t', names=names).dropna()"
     ],
     "language": "python",
     "metadata": {},
     "outputs": [],
     "prompt_number": 5
    },
    {
     "cell_type": "code",
     "collapsed": false,
     "input": [
      "# Cleaning runtimes\n",
      "dirty_runtimes = data.runtime\n",
      "clean_runtime = [ float(runtime.split(' ')[0]) for runtime in dirty_runtimes]\n",
      "data.runtime = clean_runtime"
     ],
     "language": "python",
     "metadata": {},
     "outputs": [],
     "prompt_number": 6
    },
    {
     "cell_type": "code",
     "collapsed": false,
     "input": [
      "# Determining unique genres\n",
      "genres = set()\n",
      "for m in data.genres:\n",
      "    genres.update(g for g in m.split('|'))\n",
      "genres = sorted(genres)\n",
      "\n",
      "for genre in genres:\n",
      "    data[genre] = [genre in movie.split('|') for movie in data.genres]\n",
      "\n",
      "del data['genres']"
     ],
     "language": "python",
     "metadata": {},
     "outputs": [],
     "prompt_number": 7
    },
    {
     "cell_type": "code",
     "collapsed": false,
     "input": [
      "# Fixing title\n",
      "data.title = [movie[:-7] for movie in data.title]"
     ],
     "language": "python",
     "metadata": {},
     "outputs": [],
     "prompt_number": 9
    },
    {
     "cell_type": "code",
     "collapsed": false,
     "input": [
      "# Fixing 0 runtime\n",
      "data[data.runtime == 0] = np.nan"
     ],
     "language": "python",
     "metadata": {},
     "outputs": [],
     "prompt_number": 10
    },
    {
     "cell_type": "code",
     "collapsed": false,
     "input": [
      "data[['title', 'year', 'score', 'votes', 'runtime']].describe()"
     ],
     "language": "python",
     "metadata": {},
     "outputs": [
      {
       "html": [
        "<div style=\"max-height:1000px;max-width:1500px;overflow:auto;\">\n",
        "<table border=\"1\" class=\"dataframe\">\n",
        "  <thead>\n",
        "    <tr style=\"text-align: right;\">\n",
        "      <th></th>\n",
        "      <th>year</th>\n",
        "      <th>score</th>\n",
        "      <th>votes</th>\n",
        "      <th>runtime</th>\n",
        "    </tr>\n",
        "  </thead>\n",
        "  <tbody>\n",
        "    <tr>\n",
        "      <th>count</th>\n",
        "      <td> 9717.000000</td>\n",
        "      <td> 9717.000000</td>\n",
        "      <td>   9717.000000</td>\n",
        "      <td> 9717.000000</td>\n",
        "    </tr>\n",
        "    <tr>\n",
        "      <th>mean</th>\n",
        "      <td> 1993.366059</td>\n",
        "      <td>    6.384625</td>\n",
        "      <td>  16902.353401</td>\n",
        "      <td>  106.586395</td>\n",
        "    </tr>\n",
        "    <tr>\n",
        "      <th>std</th>\n",
        "      <td>   14.819460</td>\n",
        "      <td>    1.181121</td>\n",
        "      <td>  34874.254865</td>\n",
        "      <td>   20.230330</td>\n",
        "    </tr>\n",
        "    <tr>\n",
        "      <th>min</th>\n",
        "      <td> 1950.000000</td>\n",
        "      <td>    1.500000</td>\n",
        "      <td>   1356.000000</td>\n",
        "      <td>   45.000000</td>\n",
        "    </tr>\n",
        "    <tr>\n",
        "      <th>25%</th>\n",
        "      <td> 1986.000000</td>\n",
        "      <td>    5.700000</td>\n",
        "      <td>   2367.000000</td>\n",
        "      <td>   93.000000</td>\n",
        "    </tr>\n",
        "    <tr>\n",
        "      <th>50%</th>\n",
        "      <td> 1998.000000</td>\n",
        "      <td>    6.600000</td>\n",
        "      <td>   5158.000000</td>\n",
        "      <td>  103.000000</td>\n",
        "    </tr>\n",
        "    <tr>\n",
        "      <th>75%</th>\n",
        "      <td> 2005.000000</td>\n",
        "      <td>    7.200000</td>\n",
        "      <td>  15770.000000</td>\n",
        "      <td>  115.000000</td>\n",
        "    </tr>\n",
        "    <tr>\n",
        "      <th>max</th>\n",
        "      <td> 2011.000000</td>\n",
        "      <td>    9.200000</td>\n",
        "      <td> 619479.000000</td>\n",
        "      <td>  450.000000</td>\n",
        "    </tr>\n",
        "  </tbody>\n",
        "</table>\n",
        "</div>"
       ],
       "metadata": {},
       "output_type": "pyout",
       "prompt_number": 11,
       "text": [
        "              year        score          votes      runtime\n",
        "count  9717.000000  9717.000000    9717.000000  9717.000000\n",
        "mean   1993.366059     6.384625   16902.353401   106.586395\n",
        "std      14.819460     1.181121   34874.254865    20.230330\n",
        "min    1950.000000     1.500000    1356.000000    45.000000\n",
        "25%    1986.000000     5.700000    2367.000000    93.000000\n",
        "50%    1998.000000     6.600000    5158.000000   103.000000\n",
        "75%    2005.000000     7.200000   15770.000000   115.000000\n",
        "max    2011.000000     9.200000  619479.000000   450.000000"
       ]
      }
     ],
     "prompt_number": 11
    },
    {
     "cell_type": "code",
     "collapsed": false,
     "input": [
      "# Number of movies per year\n",
      "plt.hist(data.year, bins=np.arange(1950, 2012), color='#eeeeee', align='mid')\n",
      "plt.xlabel('Year')\n",
      "plt.ylabel('Number of Movies')"
     ],
     "language": "python",
     "metadata": {},
     "outputs": [
      {
       "metadata": {},
       "output_type": "pyout",
       "prompt_number": 21,
       "text": [
        "<matplotlib.text.Text at 0x10a5a9f90>"
       ]
      },
      {
       "metadata": {},
       "output_type": "display_data",
       "png": "[encoded data removed]",
       "text": [
        "<matplotlib.figure.Figure at 0x10a591590>"
       ]
      }
     ],
     "prompt_number": 21
    },
    {
     "cell_type": "code",
     "collapsed": false,
     "input": [
      "cohort = {'Adventure': 'Blue', 'History': 'Grey'}\n",
      "for genre, _c in cohort.items():\n",
      "    if genre not in genres:\n",
      "        print \"%s not found\" %genre \n",
      "    count_years = {}\n",
      "    bios = data[data[genre] == True]\n",
      "    \n",
      "    for bio in bios.values:\n",
      "        count_years[int(bio[2])] = count_years.get(bio[2], 0) + 1\n",
      "\n",
      "    _c = _c or '#{:06x}'.format(random.randint(0xff0000, 0xffff00))\n",
      "    plt.plot(count_years.keys(), count_years.values(), label=genre, color= _c)\n",
      "    plt.legend(loc=0)\n",
      "plt.ylabel('Number of movies')\n",
      "plt.xlabel('Year')"
     ],
     "language": "python",
     "metadata": {},
     "outputs": [
      {
       "metadata": {},
       "output_type": "pyout",
       "prompt_number": 40,
       "text": [
        "<matplotlib.text.Text at 0x10e77ebd0>"
       ]
      },
      {
       "metadata": {},
       "output_type": "display_data",
       "png": "[encoded data removed]",
       "text": [
        "<matplotlib.figure.Figure at 0x10e809850>"
       ]
      }
     ],
     "prompt_number": 40
    },
    {
     "cell_type": "code",
     "collapsed": false,
     "input": [
      "#ToDO\n",
      "average_vote_genre = {}\n",
      "for genre in genres:\n",
      "    genre_movies = data[data[genre] == True]\n",
      "    average_vote_genre[genre] = float(genre_movies.votes.mean()) / float(len(genre_movies))"
     ],
     "language": "python",
     "metadata": {},
     "outputs": [],
     "prompt_number": 62
    }
   ],
   "metadata": {}
  }
 ]
}